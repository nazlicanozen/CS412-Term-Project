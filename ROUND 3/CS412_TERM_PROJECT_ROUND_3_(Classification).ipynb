{
  "cells": [
    {
      "cell_type": "markdown",
      "metadata": {
        "id": "UBOlFYpnlr0N"
      },
      "source": [
        "# Import Dependencies"
      ]
    },
    {
      "cell_type": "code",
      "execution_count": 6,
      "metadata": {
        "id": "PM5EnXhLk6BL"
      },
      "outputs": [],
      "source": [
        "import numpy as np\n",
        "import pandas as pd\n",
        "import gzip\n",
        "import json\n",
        "\n",
        "from pprint import pprint"
      ]
    },
    {
      "cell_type": "code",
      "execution_count": 7,
      "metadata": {
        "colab": {
          "base_uri": "https://localhost:8080/"
        },
        "id": "vgAdz_b8xp8w",
        "outputId": "f7ca7042-27f2-4e25-9f40-520c9aaf8bc9"
      },
      "outputs": [
        {
          "output_type": "stream",
          "name": "stderr",
          "text": [
            "[nltk_data] Downloading package stopwords to /root/nltk_data...\n",
            "[nltk_data]   Package stopwords is already up-to-date!\n"
          ]
        }
      ],
      "source": [
        "#@title Turkish StopWords\n",
        "\n",
        "import nltk\n",
        "from nltk.corpus import stopwords\n",
        "\n",
        "nltk.download('stopwords')\n",
        "turkish_stopwords = stopwords.words('turkish')"
      ]
    },
    {
      "cell_type": "markdown",
      "metadata": {
        "id": "plt9-VkNmlmH"
      },
      "source": [
        "# Influencer Category Classification\n",
        "\n",
        "\n",
        "\n",
        "1.   Read Data\n",
        "2.   Preprocess Data\n",
        "3.   Prepare Model\n",
        "4.   Predict Test Data\n",
        "4.   Save outputs\n",
        "\n"
      ]
    },
    {
      "cell_type": "code",
      "execution_count": 8,
      "metadata": {
        "id": "8DeBh-b7lrEs"
      },
      "outputs": [],
      "source": [
        "train_classification_df = pd.read_csv(\"/content/train-classification.csv\",)\n",
        "train_classification_df = train_classification_df.rename(columns={'Unnamed: 0': 'user_id', 'label': 'category'})\n",
        "\n",
        "# Unifying labels\n",
        "train_classification_df[\"category\"] = train_classification_df[\"category\"].apply(str.lower)\n",
        "username2_category = train_classification_df.set_index(\"user_id\").to_dict()[\"category\"]"
      ]
    },
    {
      "cell_type": "code",
      "source": [
        "# stats about the labels\n",
        "train_classification_df.groupby(\"category\").count()"
      ],
      "metadata": {
        "id": "SfD7BQ3hE5Jh"
      },
      "execution_count": null,
      "outputs": []
    },
    {
      "cell_type": "code",
      "execution_count": 10,
      "metadata": {
        "id": "GT_IcUM2nGBH"
      },
      "outputs": [],
      "source": [
        "train_data_path = \"/content/training-dataset.jsonl.gz\"\n",
        "\n",
        "username2posts_train = dict()\n",
        "username2profile_train = dict()\n",
        "\n",
        "username2posts_test = dict()\n",
        "username2profile_test = dict()\n",
        "\n",
        "\n",
        "with gzip.open(train_data_path, \"rt\") as fh:\n",
        "  for line in fh:\n",
        "    sample = json.loads(line)\n",
        "\n",
        "    profile = sample[\"profile\"]\n",
        "    username = profile[\"username\"]\n",
        "    if username in username2_category:\n",
        "      # train data info\n",
        "      username2posts_train[username] = sample[\"posts\"]\n",
        "      username2profile_train[username] = profile\n",
        "\n",
        "\n",
        "    else:\n",
        "      # it is test data info\n",
        "      username2posts_test[username] = sample[\"posts\"]\n",
        "      username2profile_test[username] = profile\n"
      ]
    },
    {
      "cell_type": "code",
      "execution_count": null,
      "metadata": {
        "id": "djeF1GQ1oy3v"
      },
      "outputs": [],
      "source": [
        "# Profile Dataframe\n",
        "train_profile_df = pd.DataFrame(username2profile_train).T.reset_index(drop=True)\n",
        "test_profile_df = pd.DataFrame(username2profile_test).T.reset_index(drop=True)\n",
        "\n",
        "train_profile_df"
      ]
    },
    {
      "cell_type": "code",
      "execution_count": null,
      "metadata": {
        "id": "15tvVohUBHK9"
      },
      "outputs": [],
      "source": [
        "test_profile_df.head(2)"
      ]
    },
    {
      "cell_type": "markdown",
      "metadata": {
        "id": "4k8SxH10sLyF"
      },
      "source": [
        "Here our corpus is all of our post data\n",
        "so we should concat aggregate all of them and provide as a corpus to the Tf-IDF vectorizer of the scikit-learn."
      ]
    },
    {
      "cell_type": "code",
      "execution_count": 13,
      "metadata": {
        "id": "Z5UY0eYLsoTr"
      },
      "outputs": [],
      "source": [
        "from sklearn.feature_extraction.text import TfidfVectorizer\n",
        "import re\n",
        "\n",
        "def preprocess_text(text: str):\n",
        "    # lower casing Turkish Text, Don't use str.lower :)\n",
        "    text = text.casefold()\n",
        "\n",
        "    # Remove URLs\n",
        "    text = re.sub(r'http\\S+|www\\S+|https\\S+', '', text, flags=re.MULTILINE)\n",
        "\n",
        "    # Remove special characters and punctuation\n",
        "    # HERE THE EMOJIS stuff are being removed, you may want to keep them :D\n",
        "    text = re.sub(r'[^a-zçğıöşü0-9\\s#@]', '', text)\n",
        "\n",
        "    # Remove numbers\n",
        "    text = re.sub(r'\\d+', '', text)\n",
        "\n",
        "    # Remove extra whitespaces\n",
        "    text = re.sub(r'\\s+', ' ', text).strip()\n",
        "\n",
        "    return text\n",
        "\n",
        "\n",
        "corpus = []\n",
        "\n",
        "# to keep the label order\n",
        "train_usernames = []\n",
        "\n",
        "for username, posts in username2posts_train.items():\n",
        "  train_usernames.append(username)\n",
        "\n",
        "  # aggregating the posts per user\n",
        "  cleaned_captions = []\n",
        "  for post in posts:\n",
        "    post_caption = post.get(\"caption\", \"\")\n",
        "    if post_caption is None:\n",
        "      continue\n",
        "\n",
        "    post_caption = preprocess_text(post_caption)\n",
        "\n",
        "    if post_caption != \"\":\n",
        "      cleaned_captions.append(post_caption)\n",
        "\n",
        "\n",
        "  # joining the posts of each user with a \\n\n",
        "  user_post_captions = \"\\n\".join(cleaned_captions)\n",
        "  corpus.append(user_post_captions)\n",
        "\n",
        "\n",
        "vectorizer = TfidfVectorizer(stop_words=turkish_stopwords, max_features=5000)\n",
        "\n",
        "# fit the vectorizer\n",
        "vectorizer.fit(corpus)\n",
        "\n",
        "\n",
        "# transform the data into vectors\n",
        "x_post_train = vectorizer.transform(corpus)\n",
        "y_train = [username2_category.get(uname, \"NA\") for uname in train_usernames]\n",
        "\n",
        "\n",
        "test_usernames = []\n",
        "test_corpus = []\n",
        "for username, posts in username2posts_test.items():\n",
        "  test_usernames.append(username)\n",
        "  # aggregating the posts per user\n",
        "  cleaned_captions = []\n",
        "  for post in posts:\n",
        "    post_caption = post.get(\"caption\", \"\")\n",
        "    if post_caption is None:\n",
        "      continue\n",
        "\n",
        "    post_caption = preprocess_text(post_caption)\n",
        "\n",
        "    if post_caption != \"\":\n",
        "      cleaned_captions.append(post_caption)\n",
        "\n",
        "  user_post_captions = \"\\n\".join(cleaned_captions)\n",
        "  test_corpus.append(user_post_captions)\n",
        "\n",
        "\n",
        "# Just transforming! No Fitting!!!!!\n",
        "x_post_test = vectorizer.transform(test_corpus)"
      ]
    },
    {
      "cell_type": "code",
      "execution_count": 14,
      "metadata": {
        "id": "Q-BcPjw_39aP"
      },
      "outputs": [],
      "source": [
        "# Making sure everything is fine\n",
        "assert y_train.count(\"NA\") == 0"
      ]
    },
    {
      "cell_type": "code",
      "execution_count": null,
      "metadata": {
        "id": "XP9ZrOIAvi9z"
      },
      "outputs": [],
      "source": [
        "feature_names = vectorizer.get_feature_names_out()\n",
        "feature_names"
      ]
    },
    {
      "cell_type": "code",
      "execution_count": null,
      "metadata": {
        "id": "xa4v453o0Mo_"
      },
      "outputs": [],
      "source": [
        "df_tfidf = pd.DataFrame(x_post_train.toarray(), columns=feature_names)\n",
        "df_tfidf.head(2)"
      ]
    },
    {
      "cell_type": "code",
      "execution_count": 17,
      "metadata": {
        "colab": {
          "base_uri": "https://localhost:8080/"
        },
        "id": "1i9xO_ZX1NXC",
        "outputId": "714bb2a7-29e1-433a-8196-e65e5f35da8f"
      },
      "outputs": [
        {
          "output_type": "execute_result",
          "data": {
            "text/plain": [
              "(2741, 5000)"
            ]
          },
          "metadata": {},
          "execution_count": 17
        }
      ],
      "source": [
        "df_tfidf.shape"
      ]
    },
    {
      "cell_type": "code",
      "execution_count": 18,
      "metadata": {
        "id": "ehUT3JSFz7yo"
      },
      "outputs": [],
      "source": [
        "from sklearn.model_selection import train_test_split\n",
        "x_train, x_val, y_train, y_val = train_test_split(df_tfidf, y_train, test_size=0.2, stratify=y_train)"
      ]
    },
    {
      "cell_type": "code",
      "execution_count": 19,
      "metadata": {
        "colab": {
          "base_uri": "https://localhost:8080/"
        },
        "id": "ipJX5GBZ1efb",
        "outputId": "24fe3346-63d8-4483-980e-1c62b397b37e"
      },
      "outputs": [
        {
          "output_type": "execute_result",
          "data": {
            "text/plain": [
              "(2192, 5000)"
            ]
          },
          "metadata": {},
          "execution_count": 19
        }
      ],
      "source": [
        "x_train.shape"
      ]
    },
    {
      "cell_type": "code",
      "execution_count": 20,
      "metadata": {
        "colab": {
          "base_uri": "https://localhost:8080/"
        },
        "id": "VcjAvDsR-RyU",
        "outputId": "d0eb3810-df27-4ad3-e81e-b57efe024276"
      },
      "outputs": [
        {
          "output_type": "execute_result",
          "data": {
            "text/plain": [
              "(549, 5000)"
            ]
          },
          "metadata": {},
          "execution_count": 20
        }
      ],
      "source": [
        "x_val.shape"
      ]
    },
    {
      "cell_type": "code",
      "source": [
        "from sklearn.feature_selection import SelectKBest\n",
        "from sklearn.feature_selection import chi2\n",
        "\n",
        "# Perform the chi-squared test to identify the most relevant features for each class\n",
        "chi2_selector = SelectKBest(chi2, k=1000)  # Keep top 1000 words based on Chi-Square score\n",
        "x_train_chi2 = chi2_selector.fit_transform(x_train, y_train)\n",
        "\n",
        "# Get the names of the selected features (words)\n",
        "selected_feature_names = [vectorizer.get_feature_names_out()[i] for i in chi2_selector.get_support(indices=True)]\n",
        "\n",
        "print(f\"Top 1000 words based on Chi-Square: {selected_feature_names}\")\n"
      ],
      "metadata": {
        "colab": {
          "base_uri": "https://localhost:8080/"
        },
        "id": "5AJfzt4gO1Z2",
        "outputId": "3fd5634e-d74b-428a-8c49-bddd2cc8a825"
      },
      "execution_count": 21,
      "outputs": [
        {
          "output_type": "stream",
          "name": "stdout",
          "text": [
            "Top 1000 words based on Chi-Square: ['adam', 'adidas', 'adresinden', 'adventure', 'aegean', 'afiyet', 'ai', 'aile', 'ajans', 'ak', 'aksesuar', 'akyaka', 'akıllı', 'akşam', 'alanya', 'alarm', 'allah', 'alsancak', 'alışveriş', 'amazingplaces', 'amaçlıdır', 'ambalaj', 'ameliyat', 'analiz', 'anatolium', 'and', 'anne', 'annebebek', 'annem', 'antalya', 'antalyaturkey', 'antep', 'antrenman', 'aquapark', 'araç', 'architecture', 'arda', 'arge', 'arkadaşım', 'art', 'artist', 'asistanı', 'aslan', 'at', 'ateşte', 'atölyesi', 'atıştırmalık', 'available', 'avantajlı', 'avmde', 'avrupa', 'awaits', 'ayakkabı', 'ayar', 'ayran', 'ağrı', 'ağız', 'baba', 'babası', 'baby', 'badem', 'baklava', 'balık', 'bana', 'bar', 'barbie', 'bardağı', 'basketbol', 'baskı', 'bağırsak', 'bağış', 'bağışıklık', 'başarılar', 'başkan', 'başkanı', 'başkanımız', 'başlıyoruz', 'başvurunuz', 'beach', 'beautifuldestinations', 'bebek', 'bebekler', 'bebeklerin', 'bebeğin', 'bebeğinizin', 'beer', 'belediye', 'belediyemiz', 'belediyesi', 'ben', 'bende', 'benim', 'berlin', 'besa', 'beslenme', 'beykoz', 'beylikdüzü', 'beşiktaş', 'bi', 'biber', 'bileklik', 'bilet', 'biletinial', 'biletix', 'biletler', 'bilezik', 'bilgi', 'bilgilendirme', 'bilgisayar', 'bilim', 'bilişim', 'bioda', 'bir', 'bira', 'bisiklet', 'black', 'blockchain', 'blog', 'bmw', 'bodrum', 'bodrumda', 'booknow', 'boostcamp', 'bosna', 'bosphorus', 'bot', 'breakfast', 'brekkie', 'bubilet', 'bulunduk', 'burak', 'burger', 'bursaspor', 'burun', 'by', 'böbrek', 'bölüm', 'börek', 'böyle', 'caddebostan', 'cafe', 'cake', 'camping', 'canlı', 'canlımüzik', 'canım', 'cappadocia', 'car', 'carpet', 'cerrahi', 'cesme', 'cevizlibağ', 'cheddar', 'cheers', 'cheese', 'cheesecake', 'chef', 'chicken', 'chocolate', 'chp', 'cilt', 'ciltbakımı', 'cinsel', 'cm', 'cocktail', 'cocktailbar', 'cocktails', 'coffee', 'coffeeshop', 'collection', 'construction', 'cookie', 'coreexperience', 'cotton', 'creative', 'crm', 'cumalar', 'cumartesi', 'dahil', 'damak', 'dana', 'decoration', 'dekor', 'dekorasyon', 'dekorasyonfikirleri', 'delicious', 'demirdöküm', 'denediniz', 'denim', 'deniz', 'denize', 'dental', 'dentist', 'dentistry', 'deri', 'derneği', 'desenli', 'design', 'dessert', 'destek', 'destekleyen', 'detaylı', 'devam', 'di', 'diamond', 'dijital', 'dijitalajans', 'dijitalpazarlama', 'diliyorum', 'diliyoruz', 'dinner', 'director', 'discover', 'diyabet', 'diyet', 'diyetisyen', 'diş', 'dişsağlığı', 'doktorunuza', 'dolap', 'domates', 'dondurma', 'dostu', 'doğa', 'doğal', 'doğranmış', 'doğum', 'dr', 'dragster', 'drama', 'drawing', 'dreamvacation', 'dress', 'dump', 'durumu', 'döner', 'dürüm', 'düzenlenen', 'düzenli', 'eat', 'ecommerce', 'eczacılık', 'edebiyat', 'ederim', 'ediyorum', 'edremit', 'efes', 'egzersiz', 'ekleyin', 'ekleyip', 'ekmek', 'ekmeği', 'eksikliği', 'ekşi', 'elbise', 'elektrik', 'elektrikli', 'elektronik', 'emitt', 'endüstri', 'endüstriyel', 'energy', 'enerji', 'enfes', 'engelli', 'engineering', 'enjoy', 'entegre', 'erciyes', 'erkenrezervasyon', 'erp', 'escape', 'eskrim', 'estetik', 'et', 'eti', 'eticaret', 'etkinlik', 'ettik', 'euro', 'eurovision', 'evdekorasyonu', 'every', 'experience', 'explore', 'eğitim', 'eğlence', 'eğlenceli', 'fabric', 'fabrika', 'fall', 'familyhotel', 'farkındalık', 'fashion', 'fashionstyle', 'fazla', 'fenerbahçe', 'fethiye', 'fiat', 'film', 'final', 'fitness', 'flavors', 'food', 'foodie', 'foodlover', 'foodphotography', 'foodporn', 'foodstagram', 'football', 'for', 'ford', 'formula', 'fotegistanbul', 'fotoğraf', 'franchise', 'fresh', 'fun', 'furniture', 'furnituredesign', 'futbol', 'fw', 'fındık', 'fırın', 'fırında', 'fıstık', 'galatasaray', 'gastronomi', 'gaziantep', 'gebelik', 'gecesi', 'geldim', 'geliştirme', 'genel', 'gençlik', 'getiryemek', 'gezgin', 'gezi', 'gezilecek', 'gezilecekyerler', 'geçin', 'giyim', 'glutensiz', 'gol', 'gold', 'goodfood', 'google', 'gopro', 'goreme', 'goturkey', 'gourmet', 'gr', 'grup', 'gurme', 'gurmelezzetler', 'gym', 'gömlek', 'gösteri', 'gülüştasarımı', 'gümüş', 'güvenlik', 'güç', 'gıda', 'hair', 'hakkında', 'halı', 'hamburger', 'hamile', 'hamilelik', 'hamur', 'hamuru', 'handmade', 'hasat', 'hastalık', 'hastalıkları', 'hastalığı', 'havalimanı', 'havuz', 'hayırlı', 'health', 'hellohappy', 'helva', 'hesabını', 'hijyen', 'hilton', 'holiday', 'holidays', 'hollywoodsmile', 'homedecor', 'homedesign', 'homemade', 'honeymoon', 'honor', 'hotel', 'hotels', 'hızlı', 'idrar', 'iftar', 'ii', 'ik', 'iklim', 'il', 'ilave', 'ilaç', 'iletişime', 'ilçe', 'ilçemiz', 'ilçemizde', 'ilçemize', 'im', 'implant', 'in', 'indirim', 'industrial', 'info', 'inovasyon', 'instafood', 'interiordesign', 'internet', 'inşaat', 'iphone', 'ismail', 'istanbulrestaurant', 'itü', 'ivf', 'iyilik', 'izmir', 'içmimar', 'içmimari', 'iş', 'işbirliği', 'işinizi', 'işitme', 'jeans', 'jewelry', 'kadikoy', 'kadıköy', 'kafe', 'kahvaltı', 'kahve', 'kamp', 'kan', 'kanalında', 'kanser', 'kanseri', 'kapsamında', 'karabiber', 'karaman', 'karavan', 'kargo', 'kartalkaya', 'kartepe', 'karıştırın', 'kas', 'katıldık', 'kayak', 'kayasafety', 'kaş', 'kaşar', 'kaşık', 'kaşığı', 'kebap', 'kek', 'kemer', 'kesintisiz', 'kilo', 'kitabı', 'kitap', 'kiğılı', 'knitting', 'kod', 'kodlama', 'kodu', 'kokteyl', 'koleksiyonu', 'koltuktakımı', 'kolye', 'kombin', 'komedi', 'komik', 'konaklama', 'konser', 'korlas', 'kostüm', 'kral', 'krema', 'kronik', 'kruvasan', 'kullanıcı', 'kumaş', 'kupası', 'kurabiye', 'kuru', 'kurulu', 'kuruyemiş', 'kuzu', 'köfte', 'kültür', 'künefe', 'küpe', 'kırtasiye', 'kıymetli', 'kız', 'la', 'latte', 'lazer', 'le', 'leather', 'led', 'leziz', 'lezzet', 'lezzeti', 'lezzetin', 'lezzetini', 'lezzetiyle', 'lezzetler', 'lezzetleri', 'lezzetli', 'ligi', 'liman', 'limon', 'linke', 'little', 'logistics', 'lokum', 'lotus', 'luna', 'lunch', 'luxury', 'luxuryhotel', 'mahalle', 'makarna', 'makeup', 'makine', 'makyaj', 'malzemeler', 'mama', 'mantı', 'manzara', 'marina', 'marmaris', 'masko', 'maç', 'mağazaları', 'meat', 'meclis', 'mediterranean', 'medya', 'meme', 'memories', 'menu', 'mesut', 'metal', 'meyhane', 'meyve', 'meze', 'michelin', 'milli', 'milyonbilet', 'mimari', 'mimarlık', 'minik', 'ml', 'mm', 'mobile', 'mobilya', 'moda', 'model', 'modern', 'montaj', 'mood', 'motor', 'mountain', 'muayene', 'music', 'mutfak', 'muya', 'my', 'mücevher', 'müdürümüz', 'mühendislik', 'müzik', 'müşteri', 'nature', 'nazar', 'nazik', 'nazilli', 'nebim', 'necklace', 'nefis', 'nets', 'newcollection', 'night', 'nike', 'nişantaşı', 'numara', 'obezite', 'of', 'okul', 'okula', 'okulöncesi', 'olarak', 'omega', 'onların', 'organik', 'ortağı', 'osmanlı', 'otel', 'otomasyon', 'otomatik', 'otomotiv', 'our', 'outfit', 'oyun', 'oyuncak', 'oyuncu', 'oyuncular', 'oyunculuk', 'oyunu', 'oğlum', 'paket', 'paketservis', 'paloma', 'palomahotels', 'palomamemories', 'pantolon', 'parfüm', 'parti', 'partisi', 'party', 'parçalar', 'pasta', 'patates', 'patient', 'patients', 'pazarlama', 'performans', 'peynir', 'peyniri', 'peynirli', 'philips', 'photography', 'pide', 'pijama', 'pilav', 'pizza', 'pişirin', 'platform', 'platinum', 'pool', 'pro', 'probiyotik', 'production', 'prodüksiyon', 'prof', 'profildeki', 'proje', 'prostat', 'protein', 'psikoloji', 'puan', 'pub', 'pırlanta', 'rabbim', 'rahat', 'rahatlık', 'rahim', 'rakı', 'randevu', 'red', 'reels', 'reelsinstagram', 'regl', 'reklam', 'reklamajansı', 'renk', 'reservation', 'resort', 'restaurant', 'restoran', 'rez', 'rezervasyon', 'rhinoplasty', 'rinoplasti', 'robot', 'robotik', 'rooms', 'run', 'röportaj', 'sahada', 'sahne', 'sahnede', 'sahnesinde', 'sailing', 'salad', 'salata', 'salatası', 'sale', 'salonunda', 'sanat', 'sandviç', 'sarımsak', 'satış', 'satışta', 'sauce', 'savunma', 'sayesinde', 'sayın', 'saç', 'sağlar', 'sağlık', 'sağlıklı', 'sağlıklıbeslenme', 'sağlıklıyaşam', 'sağlığı', 'science', 'sea', 'selamlar', 'seo', 'serbay', 'sergi', 'servis', 'sevdiğin', 'seviyorum', 'seyahat', 'sezon', 'sezonun', 'shop', 'shopiverse', 'showtv', 'sigara', 'sigorta', 'sigortası', 'simdiantalyazamani', 'simit', 'sinema', 'sinemalarda', 'sipariş', 'sistem', 'sistemi', 'sistemleri', 'site', 'sitesi', 'sivil', 'siyah', 'sizlerle', 'ski', 'sky', 'smile', 'smiledesign', 'smilemakeover', 'sms', 'sn', 'sneaker', 'sneakers', 'snow', 'snowboard', 'sofralarınıza', 'software', 'sokaklezzetleri', 'solidworks', 'solutions', 'sonbahar', 'sonrası', 'sonucu', 'sorularınızı', 'sos', 'soslu', 'sosu', 'sosyal', 'sosyalmedya', 'sosyalmedyayönetimi', 'soğan', 'soğuksıkım', 'spa', 'split', 'sponsoru', 'spor', 'sporcu', 'sport', 'sports', 'ss', 'standup', 'standımıza', 'stay', 'steak', 'steakhouse', 'steel', 'stil', 'streetstyle', 'stres', 'style', 'styling', 'stylish', 'su', 'sucuk', 'summer', 'summergetaway', 'summervibes', 'sun', 'sunandmore', 'sunar', 'sunset', 'surgery', 'süper', 'sürüş', 'süt', 'süzme', 'tadı', 'tadına', 'tahin', 'takviye', 'takı', 'takım', 'takımı', 'tanı', 'taptaze', 'tarafından', 'tarif', 'tarifi', 'tarz', 'tarzını', 'tasarrufu', 'tasarım', 'tasarımlar', 'taste', 'tasty', 'tat', 'tatil', 'tatilinizi', 'tatlı', 'tavuk', 'taze', 'taç', 'tb', 'tbmm', 'tbt', 'tckulturturizm', 'tebrik', 'tech', 'technology', 'tedavi', 'tedavisi', 'tedavisinde', 'teeth', 'teknik', 'teknofest', 'teknoloji', 'teknolojik', 'teknolojileri', 'teknolojisi', 'temizlik', 'tenis', 'terapi', 'tereyağ', 'tereyağı', 'termal', 'teşekkür', 'teşekkürler', 'the', 'thermal', 'tiyatro', 'tiyatrosu', 'to', 'tost', 'touch', 'tourism', 'tranquility', 'transfer', 'travel', 'travelgram', 'travelphotography', 'trend', 'trendyhotelstr', 'trendyol', 'tur', 'turizm', 'turkey', 'turkish', 'turu', 'tuz', 'tvde', 'twitter', 'tüp', 'tüpbebek', 'tüpbebektedavisi', 'türkiye', 'tıp', 'uludağ', 'un', 'unforgettable', 'urla', 'uyku', 'uykuya', 'uzerinden', 'vacation', 'vacationmode', 'valimiz', 'vefat', 'vegan', 'veli', 'veneers', 'veri', 'verimli', 'view', 'villa', 'visitantalya', 'vitamin', 'vitamini', 'voleybol', 'vücut', 'watch', 'we', 'web', 'websitesi', 'webtasarım', 'wellness', 'where', 'wifi', 'wine', 'with', 'woodtech', 'worldef', 'xm', 'yalıkavak', 'yaprak', 'yatak', 'yatakodası', 'yayın', 'yayında', 'yazar', 'yaztatili', 'yazılım', 'yağ', 'yaş', 'yaşam', 'yemek', 'yemeksepeti', 'yenidoğan', 'yenilikçi', 'yenisezon', 'yks', 'you', 'your', 'youtube', 'yoğurt', 'yummy', 'yumurta', 'yönetim', 'yönetimi', 'yönetmen', 'yönetmeni', 'yüzme', 'yüzük', 'zamansız', 'zarif', 'zayıflama', 'zeytin', 'zeytinyağı', 'ziyaretlerinden', 'çanta', 'çay', 'çeyiz', 'çikolata', 'çilek', 'çocuk', 'çocukgelişimi', 'çocuklar', 'çocuklara', 'çocukları', 'çocuklarımız', 'çocuklarımıza', 'çocukların', 'çocuklarınızın', 'çocuğun', 'çocuğunuzun', 'çokyaşacumhuriyet', 'çorba', 'çorbası', 'çözümler', 'çözümleri', 'çıtır', 'önemlidir', 'örgü', 'özelliği', 'öğrencilerimiz', 'üretim', 'ürün', 'ürünlerde', 'ızgara', 'şampiyon', 'şampiyonasında', 'şarap', 'şarj', 'şarküteri', 'şarkıları', 'şeker', 'şık', 'şıklık', 'şıklığı']\n"
          ]
        }
      ]
    },
    {
      "cell_type": "code",
      "source": [
        "#@title Test Data\n",
        "\n",
        "\n",
        "# let's take a look at the first 5 lines of the file\n",
        "test_data_path = \"/content/test-classification-round3.dat\"\n",
        "!head -n 5 \"$test_data_path\"\n",
        "\n",
        "print(\"*****\")\n",
        "\n",
        "test_unames = []\n",
        "with open(test_data_path, \"rt\") as fh:\n",
        "  for line in fh:\n",
        "    test_unames.append(line.strip())\n",
        "\n",
        "print(test_unames[:5])\n"
      ],
      "metadata": {
        "id": "Q0K5xB2Lc4FC"
      },
      "execution_count": null,
      "outputs": []
    },
    {
      "cell_type": "code",
      "source": [
        "x_test = []\n",
        "\n",
        "for uname in test_unames:\n",
        "  try:\n",
        "    index = test_usernames.index(uname)\n",
        "    x_test.append(x_post_test[index].toarray()[0])\n",
        "  except Exception as e:\n",
        "    try:\n",
        "      index = train_usernames.index(uname)\n",
        "      x_test.append(x_post_train[index].toarray()[0])\n",
        "    except Exception as e:\n",
        "      print(uname)\n"
      ],
      "metadata": {
        "id": "6-VBzXawc8UW"
      },
      "execution_count": 27,
      "outputs": []
    },
    {
      "cell_type": "code",
      "source": [
        "from sklearn.linear_model import LogisticRegression\n",
        "from sklearn.model_selection import StratifiedKFold, GridSearchCV, cross_val_score\n",
        "from sklearn.metrics import accuracy_score, classification_report\n",
        "import numpy as np\n",
        "\n",
        "# Logistic Regression Model with L1 regularization for Multiclass\n",
        "logreg = LogisticRegression(\n",
        "    penalty='l1',\n",
        "    solver='liblinear',\n",
        "    max_iter=1000,\n",
        "    multi_class='ovr'  # Explicitly define one-vs-rest\n",
        ")\n",
        "\n",
        "# Cross-validation setup\n",
        "cv = StratifiedKFold(n_splits=5, shuffle=True, random_state=42)\n",
        "\n",
        "# Define a range of C values to tune the regularization\n",
        "param_grid = {'C': np.logspace(-4, 4, 20)}  # Fine-tune over 20 points\n",
        "\n",
        "# GridSearchCV to tune C\n",
        "grid_search = GridSearchCV(logreg, param_grid, cv=cv, scoring='accuracy', n_jobs=-1)\n",
        "grid_search.fit(x_train, y_train)\n",
        "\n",
        "# Get best C value\n",
        "best_C = grid_search.best_params_['C']\n",
        "print(f\"Best C value: {best_C}\")\n",
        "\n",
        "# Train model with best C\n",
        "modelLogReg = LogisticRegression(\n",
        "    penalty='l1',\n",
        "    C=best_C,\n",
        "    solver='liblinear',\n",
        "    max_iter=1000,\n",
        "    multi_class='ovr'\n",
        ")\n",
        "modelLogReg.fit(x_train, y_train)\n",
        "\n",
        "# Count non-zero coefficients across all classes\n",
        "non_zero_coefficients = np.any(modelLogReg.coef_ != 0, axis=0)\n",
        "selected_feature_count = np.sum(non_zero_coefficients)\n",
        "print(f\"Number of selected features: {selected_feature_count}\")\n",
        "\n",
        "# Adjust C based on feature count\n",
        "if selected_feature_count < 2000:\n",
        "    print(\"Selected features are less than 2000, try increasing the C value.\")\n",
        "elif selected_feature_count > 2000:\n",
        "    print(\"Selected features are more than 2000, try decreasing the C value.\")\n",
        "else:\n",
        "    print(\"Approximately 2000 features are selected.\")\n",
        "\n",
        "# Filter x_train and x_val based on selected features\n",
        "selected_features_logistic = x_train.columns[non_zero_coefficients]\n",
        "x_train_selected = x_train[selected_features_logistic]\n",
        "x_val_selected = x_val[selected_features_logistic]\n",
        "\n",
        "# Re-train the model with selected features\n",
        "modelLogReg.fit(x_train_selected, y_train)\n",
        "\n",
        "# Evaluate the model\n",
        "train_accuracy = accuracy_score(y_train, modelLogReg.predict(x_train_selected))\n",
        "cv_accuracy = cross_val_score(modelLogReg, x_train_selected, y_train, cv=5, scoring='accuracy').mean()\n",
        "\n",
        "print(f\"Train Accuracy: {train_accuracy}\")\n",
        "print(f\"Cross-validation Accuracy: {cv_accuracy}\")\n",
        "\n",
        "# Predictions on the validation set\n",
        "y_pred = modelLogReg.predict(x_val_selected)\n",
        "\n",
        "print(\"Validation Accuracy:\", accuracy_score(y_val, y_pred))\n",
        "print(\"Classification Report:\")\n",
        "print(classification_report(y_val, y_pred))\n",
        "\n",
        "# Print selected features\n",
        "print(\"Selected Features:\")\n",
        "print(selected_features_logistic)\n",
        "\n",
        "# Print selected features\n",
        "print(\"Selected Features:\")\n",
        "print(selected_features_logistic)\n"
      ],
      "metadata": {
        "colab": {
          "base_uri": "https://localhost:8080/"
        },
        "id": "gxrKxmyOdMnw",
        "outputId": "9c14563d-5d1a-4d18-9d7b-c7312fd783de"
      },
      "execution_count": 28,
      "outputs": [
        {
          "output_type": "stream",
          "name": "stderr",
          "text": [
            "/usr/local/lib/python3.10/dist-packages/sklearn/linear_model/_logistic.py:1256: FutureWarning: 'multi_class' was deprecated in version 1.5 and will be removed in 1.7. Use OneVsRestClassifier(LogisticRegression(..)) instead. Leave it to its default value to avoid this warning.\n",
            "  warnings.warn(\n"
          ]
        },
        {
          "output_type": "stream",
          "name": "stdout",
          "text": [
            "Best C value: 10000.0\n"
          ]
        },
        {
          "output_type": "stream",
          "name": "stderr",
          "text": [
            "/usr/local/lib/python3.10/dist-packages/sklearn/linear_model/_logistic.py:1256: FutureWarning: 'multi_class' was deprecated in version 1.5 and will be removed in 1.7. Use OneVsRestClassifier(LogisticRegression(..)) instead. Leave it to its default value to avoid this warning.\n",
            "  warnings.warn(\n"
          ]
        },
        {
          "output_type": "stream",
          "name": "stdout",
          "text": [
            "Number of selected features: 3963\n",
            "Selected features are more than 2000, try decreasing the C value.\n"
          ]
        },
        {
          "output_type": "stream",
          "name": "stderr",
          "text": [
            "/usr/local/lib/python3.10/dist-packages/sklearn/linear_model/_logistic.py:1256: FutureWarning: 'multi_class' was deprecated in version 1.5 and will be removed in 1.7. Use OneVsRestClassifier(LogisticRegression(..)) instead. Leave it to its default value to avoid this warning.\n",
            "  warnings.warn(\n",
            "/usr/local/lib/python3.10/dist-packages/sklearn/linear_model/_logistic.py:1256: FutureWarning: 'multi_class' was deprecated in version 1.5 and will be removed in 1.7. Use OneVsRestClassifier(LogisticRegression(..)) instead. Leave it to its default value to avoid this warning.\n",
            "  warnings.warn(\n",
            "/usr/local/lib/python3.10/dist-packages/sklearn/linear_model/_logistic.py:1256: FutureWarning: 'multi_class' was deprecated in version 1.5 and will be removed in 1.7. Use OneVsRestClassifier(LogisticRegression(..)) instead. Leave it to its default value to avoid this warning.\n",
            "  warnings.warn(\n",
            "/usr/local/lib/python3.10/dist-packages/sklearn/linear_model/_logistic.py:1256: FutureWarning: 'multi_class' was deprecated in version 1.5 and will be removed in 1.7. Use OneVsRestClassifier(LogisticRegression(..)) instead. Leave it to its default value to avoid this warning.\n",
            "  warnings.warn(\n",
            "/usr/local/lib/python3.10/dist-packages/sklearn/linear_model/_logistic.py:1256: FutureWarning: 'multi_class' was deprecated in version 1.5 and will be removed in 1.7. Use OneVsRestClassifier(LogisticRegression(..)) instead. Leave it to its default value to avoid this warning.\n",
            "  warnings.warn(\n",
            "/usr/local/lib/python3.10/dist-packages/sklearn/linear_model/_logistic.py:1256: FutureWarning: 'multi_class' was deprecated in version 1.5 and will be removed in 1.7. Use OneVsRestClassifier(LogisticRegression(..)) instead. Leave it to its default value to avoid this warning.\n",
            "  warnings.warn(\n"
          ]
        },
        {
          "output_type": "stream",
          "name": "stdout",
          "text": [
            "Train Accuracy: 0.9972627737226277\n",
            "Cross-validation Accuracy: 0.6090263259171425\n",
            "Validation Accuracy: 0.6138433515482696\n",
            "Classification Report:\n",
            "                      precision    recall  f1-score   support\n",
            "\n",
            "                 art       0.34      0.37      0.35        38\n",
            "       entertainment       0.41      0.43      0.42        65\n",
            "             fashion       0.72      0.52      0.60        60\n",
            "                food       0.87      0.88      0.87       102\n",
            "              gaming       0.00      0.00      0.00         3\n",
            "health and lifestyle       0.56      0.66      0.61       100\n",
            "    mom and children       0.47      0.30      0.37        30\n",
            "              sports       0.55      0.52      0.53        23\n",
            "                tech       0.65      0.75      0.70        69\n",
            "              travel       0.65      0.59      0.62        59\n",
            "\n",
            "            accuracy                           0.61       549\n",
            "           macro avg       0.52      0.50      0.51       549\n",
            "        weighted avg       0.61      0.61      0.61       549\n",
            "\n",
            "Selected Features:\n",
            "Index(['abdullah', 'abone', 'about', 'acele', 'acil', 'acı', 'ad', 'ada',\n",
            "       'adam', 'adana',\n",
            "       ...\n",
            "       'şirket', 'şubat', 'şube', 'şubemiz', 'şölen', 'şöyle', 'şükür', 'şık',\n",
            "       'şıklık', 'şıklığı'],\n",
            "      dtype='object', length=3963)\n",
            "Selected Features:\n",
            "Index(['abdullah', 'abone', 'about', 'acele', 'acil', 'acı', 'ad', 'ada',\n",
            "       'adam', 'adana',\n",
            "       ...\n",
            "       'şirket', 'şubat', 'şube', 'şubemiz', 'şölen', 'şöyle', 'şükür', 'şık',\n",
            "       'şıklık', 'şıklığı'],\n",
            "      dtype='object', length=3963)\n"
          ]
        },
        {
          "output_type": "stream",
          "name": "stderr",
          "text": [
            "/usr/local/lib/python3.10/dist-packages/sklearn/metrics/_classification.py:1565: UndefinedMetricWarning: Precision is ill-defined and being set to 0.0 in labels with no predicted samples. Use `zero_division` parameter to control this behavior.\n",
            "  _warn_prf(average, modifier, f\"{metric.capitalize()} is\", len(result))\n",
            "/usr/local/lib/python3.10/dist-packages/sklearn/metrics/_classification.py:1565: UndefinedMetricWarning: Precision is ill-defined and being set to 0.0 in labels with no predicted samples. Use `zero_division` parameter to control this behavior.\n",
            "  _warn_prf(average, modifier, f\"{metric.capitalize()} is\", len(result))\n",
            "/usr/local/lib/python3.10/dist-packages/sklearn/metrics/_classification.py:1565: UndefinedMetricWarning: Precision is ill-defined and being set to 0.0 in labels with no predicted samples. Use `zero_division` parameter to control this behavior.\n",
            "  _warn_prf(average, modifier, f\"{metric.capitalize()} is\", len(result))\n"
          ]
        }
      ]
    },
    {
      "cell_type": "code",
      "source": [
        "from sklearn.metrics import confusion_matrix, ConfusionMatrixDisplay\n",
        "import matplotlib.pyplot as plt\n",
        "\n",
        "# Generate confusion matrix\n",
        "conf_matrix = confusion_matrix(y_val, y_pred)\n",
        "\n",
        "# Plot confusion matrix\n",
        "disp = ConfusionMatrixDisplay(confusion_matrix=conf_matrix, display_labels=modelLogReg.classes_)\n",
        "disp.plot(cmap='Blues')\n",
        "\n",
        "# Rotate x-axis labels\n",
        "plt.xticks(rotation=90)  # Rotate the x-axis labels 90 degrees\n",
        "plt.xlabel(\"Predicted Labels\")\n",
        "plt.ylabel(\"True Labels\")\n",
        "plt.title(\"Confusion Matrix\")\n",
        "plt.show()"
      ],
      "metadata": {
        "colab": {
          "base_uri": "https://localhost:8080/",
          "height": 591
        },
        "id": "xwHAb_I09BJc",
        "outputId": "eaff1ef4-6f18-473a-82ad-3370c7fdef10"
      },
      "execution_count": 36,
      "outputs": [
        {
          "output_type": "display_data",
          "data": {
            "text/plain": [
              "<Figure size 640x480 with 2 Axes>"
            ],
            "image/png": "[encoded data removed]"
          },
          "metadata": {}
        }
      ]
    },
    {
      "cell_type": "code",
      "execution_count": null,
      "metadata": {
        "id": "c2rswpw7IqGc"
      },
      "outputs": [],
      "source": [
        "df_test = pd.DataFrame(np.array(x_test), columns=feature_names)\n",
        "df_test.head(2)"
      ]
    },
    {
      "cell_type": "code",
      "source": [
        "# Ensure test data contains only the selected features\n",
        "df_test_selected = df_test[selected_features_logistic]\n",
        "df_test_selected.head(2)"
      ],
      "metadata": {
        "id": "MlF3T0VB6B6b"
      },
      "execution_count": null,
      "outputs": []
    },
    {
      "cell_type": "code",
      "execution_count": 41,
      "metadata": {
        "id": "gUsUQtpMKTse"
      },
      "outputs": [],
      "source": [
        "#test_pred = best_rf_model.predict(df_test)\n",
        "test_pred = modelLogReg.predict(df_test_selected)\n",
        "\n",
        "output = dict()\n",
        "for index, uname in enumerate(test_unames):\n",
        "  output[uname] = test_pred[index]"
      ]
    },
    {
      "cell_type": "code",
      "source": [
        "print(f\"Total number of features used to train modelLogReg: {x_train_selected.shape[1]}\")"
      ],
      "metadata": {
        "colab": {
          "base_uri": "https://localhost:8080/"
        },
        "id": "i2Y8NpFUIntJ",
        "outputId": "bbe3ef25-4915-4b33-d675-0f774212bf60"
      },
      "execution_count": 42,
      "outputs": [
        {
          "output_type": "stream",
          "name": "stdout",
          "text": [
            "Total number of features used to train modelLogReg: 3963\n"
          ]
        }
      ]
    },
    {
      "cell_type": "code",
      "source": [
        "test_pred = modelLogReg.predict(df_test_selected)\n",
        "\n",
        "output = dict()\n",
        "for index, uname in enumerate(test_unames):\n",
        "  output[uname] = test_pred[index]"
      ],
      "metadata": {
        "id": "2DOduq5jGsUk"
      },
      "execution_count": 43,
      "outputs": []
    },
    {
      "cell_type": "code",
      "source": [
        "with open(\"output_logisticregression.json\", \"w\") as of:\n",
        "  json.dump(output, of, indent=4)"
      ],
      "metadata": {
        "id": "NDox_DtbFTpr"
      },
      "execution_count": 44,
      "outputs": []
    }
  ],
  "metadata": {
    "colab": {
      "provenance": []
    },
    "kernelspec": {
      "display_name": "Python 3",
      "name": "python3"
    },
    "language_info": {
      "name": "python"
    }
  },
  "nbformat": 4,
  "nbformat_minor": 0
}